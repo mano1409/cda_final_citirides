{
 "cells": [
  {
   "cell_type": "code",
   "execution_count": 1,
   "id": "5d12c009-388f-4548-b1d3-2de2d8607859",
   "metadata": {},
   "outputs": [
    {
     "name": "stdout",
     "output_type": "stream",
     "text": [
      "Top 3 start locations by ride count:\n",
      "\n",
      "• W 21 St & 6 Ave: 139,932 rides\n",
      "• Broadway & W 58 St: 115,744 rides\n",
      "• West St & Chambers St: 110,814 rides\n"
     ]
    }
   ],
   "source": [
    "#!/usr/bin/env python3\n",
    "\"\"\"\n",
    "select_top3_locations.py\n",
    "\n",
    "Scan every raw Citibike CSV in CSV_DIR and print out the top-3 most\n",
    "frequently used start stations (locations) by ride count.\n",
    "\"\"\"\n",
    "\n",
    "import os\n",
    "import glob\n",
    "import pandas as pd\n",
    "\n",
    "# ──────────────────────────────────────────────────────────────────────────────\n",
    "# CONFIGURATION — update to your local raw CSV folder\n",
    "CSV_DIR = \"/Users/manu/Desktop/cda_final/data/processed/raw_citibike_csvs\"\n",
    "TOP_K   = 3\n",
    "# ──────────────────────────────────────────────────────────────────────────────\n",
    "\n",
    "def select_top_k_start_stations(csv_dir: str, k: int) -> pd.Series:\n",
    "    \"\"\"\n",
    "    Read every CSV in `csv_dir`, tally all 'start_station_name' values,\n",
    "    and return a Series of the top-k station names and their counts.\n",
    "    \"\"\"\n",
    "    counts = pd.Series(dtype=int)\n",
    "\n",
    "    for path in glob.glob(os.path.join(csv_dir, \"*.csv\")):\n",
    "        df = pd.read_csv(path, usecols=[\"start_station_name\"])\n",
    "        vc = df[\"start_station_name\"].value_counts()\n",
    "        counts = counts.add(vc, fill_value=0)\n",
    "\n",
    "    counts = counts.astype(int)\n",
    "    return counts.nlargest(k)\n",
    "\n",
    "def main():\n",
    "    top3 = select_top_k_start_stations(CSV_DIR, TOP_K)\n",
    "    print(f\"Top {TOP_K} start locations by ride count:\\n\")\n",
    "    for station, cnt in top3.items():\n",
    "        print(f\"• {station}: {cnt:,} rides\")\n",
    "\n",
    "if __name__ == \"__main__\":\n",
    "    main()"
   ]
  },
  {
   "cell_type": "code",
   "execution_count": null,
   "id": "3da57748-d14a-4678-b6ab-e437fcdc6be3",
   "metadata": {},
   "outputs": [],
   "source": []
  }
 ],
 "metadata": {
  "kernelspec": {
   "display_name": "Python 3 (ipykernel)",
   "language": "python",
   "name": "python3"
  },
  "language_info": {
   "codemirror_mode": {
    "name": "ipython",
    "version": 3
   },
   "file_extension": ".py",
   "mimetype": "text/x-python",
   "name": "python",
   "nbconvert_exporter": "python",
   "pygments_lexer": "ipython3",
   "version": "3.12.7"
  }
 },
 "nbformat": 4,
 "nbformat_minor": 5
}
