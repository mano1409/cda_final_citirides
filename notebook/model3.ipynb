{
 "cells": [
  {
   "cell_type": "code",
   "execution_count": 1,
   "id": "55ca3535-e9b2-46cb-aabe-ca2bd81c4c13",
   "metadata": {},
   "outputs": [
    {
     "name": "stdout",
     "output_type": "stream",
     "text": [
      "[LightGBM] [Info] Auto-choosing col-wise multi-threading, the overhead of testing was 0.000504 seconds.\n",
      "You can set `force_col_wise=true` to remove the overhead.\n",
      "[LightGBM] [Info] Total Bins 5326\n",
      "[LightGBM] [Info] Number of data points in the train set: 6582, number of used features: 28\n",
      "[LightGBM] [Info] Start training from score 45.662413\n",
      "[LightGBM] [Info] Auto-choosing col-wise multi-threading, the overhead of testing was 0.000301 seconds.\n",
      "You can set `force_col_wise=true` to remove the overhead.\n",
      "[LightGBM] [Info] Total Bins 1904\n",
      "[LightGBM] [Info] Number of data points in the train set: 6582, number of used features: 10\n",
      "[LightGBM] [Info] Start training from score 45.662413\n"
     ]
    },
    {
     "name": "stderr",
     "output_type": "stream",
     "text": [
      "\u001b[31m2025/05/10 12:47:46 WARNING mlflow.models.model: Model logged without a signature and input example. Please set `input_example` parameter when logging the model to auto infer the model signature.\u001b[0m\n"
     ]
    },
    {
     "name": "stdout",
     "output_type": "stream",
     "text": [
      "[lgbm_top10_imp] MAE = 8.33\n"
     ]
    }
   ],
   "source": [
    "# model3_feature_reduction.py\n",
    "\n",
    "import pandas as pd\n",
    "from sklearn.metrics import mean_absolute_error\n",
    "from lightgbm import LGBMRegressor\n",
    "import mlflow\n",
    "\n",
    "# ──────────────────────────────────────────────────────────────────────────────\n",
    "PARQUET_PATH = \"/Users/kaushalshivaprakash/Desktop/project3/data/processed/cleaned_citibike/citibike_2023_top3.parquet\"\n",
    "EXPERIMENT   = \"CitiBike_Forecasting\"\n",
    "TRAIN_FRAC   = 0.8\n",
    "MAX_LAG      = 28\n",
    "TOP_K        = 10   # how many features to keep\n",
    "# ──────────────────────────────────────────────────────────────────────────────\n",
    "\n",
    "def load_and_prepare(path):\n",
    "    df = pd.read_parquet(path)\n",
    "    df[\"datetime\"] = df[\"started_at\"].dt.floor(\"H\")\n",
    "    agg = df.groupby(\"datetime\").size().reset_index(name=\"count\").sort_values(\"datetime\")\n",
    "    # lag features\n",
    "    for lag in range(1, MAX_LAG + 1):\n",
    "        agg[f\"lag_{lag}\"] = agg[\"count\"].shift(lag)\n",
    "    agg = agg.dropna().reset_index(drop=True)\n",
    "    return agg\n",
    "\n",
    "def split(df, frac):\n",
    "    idx = int(len(df) * frac)\n",
    "    return df.iloc[:idx], df.iloc[idx:]\n",
    "\n",
    "def main():\n",
    "    mlflow.set_experiment(EXPERIMENT)\n",
    "    df = load_and_prepare(PARQUET_PATH)\n",
    "    train, test = split(df, TRAIN_FRAC)\n",
    "\n",
    "    feats = [f\"lag_{i}\" for i in range(1, MAX_LAG + 1)]\n",
    "    X_train, y_train = train[feats], train[\"count\"]\n",
    "    X_test,  y_test  = test[feats],  test[\"count\"]\n",
    "\n",
    "    # 1) initial model to get importances\n",
    "    base = LGBMRegressor(random_state=42)\n",
    "    base.fit(X_train, y_train)\n",
    "    importances = pd.Series(base.feature_importances_, index=feats)\n",
    "    top_features = importances.nlargest(TOP_K).index.tolist()\n",
    "\n",
    "    # 2) retrain on top-K\n",
    "    with mlflow.start_run(run_name=\"lgbm_top10_imp\"):\n",
    "        mlflow.log_param(\"model_type\",      \"lgbm_top10_importance\")\n",
    "        mlflow.log_param(\"num_lag_features\", MAX_LAG)\n",
    "        mlflow.log_param(\"selected_features\", top_features)\n",
    "\n",
    "        model = LGBMRegressor(random_state=42)\n",
    "        model.fit(X_train[top_features], y_train)\n",
    "\n",
    "        preds = model.predict(X_test[top_features])\n",
    "        mae   = mean_absolute_error(y_test, preds)\n",
    "\n",
    "        mlflow.log_param(\"num_selected_features\", len(top_features))\n",
    "        mlflow.log_metric(\"mae\", mae)\n",
    "        mlflow.sklearn.log_model(model, \"model\")\n",
    "\n",
    "    print(f\"[lgbm_top10_imp] MAE = {mae:.2f}\")\n",
    "\n",
    "if __name__ == \"__main__\":\n",
    "    main()"
   ]
  },
  {
   "cell_type": "code",
   "execution_count": null,
   "id": "e39d9a0f-9676-4471-82a9-a5a68a223a30",
   "metadata": {},
   "outputs": [],
   "source": []
  }
 ],
 "metadata": {
  "kernelspec": {
   "display_name": "Python 3 (ipykernel)",
   "language": "python",
   "name": "python3"
  },
  "language_info": {
   "codemirror_mode": {
    "name": "ipython",
    "version": 3
   },
   "file_extension": ".py",
   "mimetype": "text/x-python",
   "name": "python",
   "nbconvert_exporter": "python",
   "pygments_lexer": "ipython3",
   "version": "3.12.7"
  }
 },
 "nbformat": 4,
 "nbformat_minor": 5
}
