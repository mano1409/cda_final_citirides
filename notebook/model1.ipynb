{
 "cells": [
  {
   "cell_type": "code",
   "execution_count": 1,
   "id": "41ef807f-b05d-43be-9d45-de1c9f509c51",
   "metadata": {},
   "outputs": [
    {
     "name": "stdout",
     "output_type": "stream",
     "text": [
      "[baseline] MAE = 31.20\n"
     ]
    }
   ],
   "source": [
    "# model1_baseline.py\n",
    "\n",
    "import pandas as pd\n",
    "from sklearn.metrics import mean_absolute_error\n",
    "import mlflow\n",
    "\n",
    "# ──────────────────────────────────────────────────────────────────────────────\n",
    "PARQUET_PATH = \"/Users/manu/Desktop/cda_final/data/processed/cleaned_citibike/citibike_2023_top3.parquet\"\n",
    "EXPERIMENT   = \"CitiBike_Forecasting\"\n",
    "TRAIN_FRAC   = 0.8\n",
    "# ──────────────────────────────────────────────────────────────────────────────\n",
    "\n",
    "def load_and_aggregate(path):\n",
    "    df = pd.read_parquet(path)\n",
    "    df[\"datetime\"] = df[\"started_at\"].dt.floor(\"H\")\n",
    "    agg = df.groupby(\"datetime\").size().reset_index(name=\"count\")\n",
    "    agg = agg.sort_values(\"datetime\").reset_index(drop=True)\n",
    "    return agg\n",
    "\n",
    "def train_test_split_ts(df, frac):\n",
    "    idx = int(len(df) * frac)\n",
    "    return df.iloc[:idx], df.iloc[idx:]\n",
    "\n",
    "def main():\n",
    "    mlflow.set_experiment(EXPERIMENT)\n",
    "    df = load_and_aggregate(PARQUET_PATH)\n",
    "    train, test = train_test_split_ts(df, TRAIN_FRAC)\n",
    "\n",
    "    # Baseline: predict train mean for every test point\n",
    "    baseline_pred = train[\"count\"].mean()\n",
    "    preds = [baseline_pred] * len(test)\n",
    "    mae = mean_absolute_error(test[\"count\"], preds)\n",
    "\n",
    "    with mlflow.start_run(run_name=\"baseline_mean\"):\n",
    "        mlflow.log_param(\"model_type\", \"baseline_mean\")\n",
    "        mlflow.log_param(\"train_count\", len(train))\n",
    "        mlflow.log_param(\"test_count\", len(test))\n",
    "        mlflow.log_metric(\"mae\", mae)\n",
    "\n",
    "    print(f\"[baseline] MAE = {mae:.2f}\")\n",
    "\n",
    "if __name__ == \"__main__\":\n",
    "    main()"
   ]
  },
  {
   "cell_type": "code",
   "execution_count": 4,
   "id": "340088f6-381c-4621-adf0-5d77bee9730a",
   "metadata": {},
   "outputs": [
    {
     "name": "stdout",
     "output_type": "stream",
     "text": [
      "Note: you may need to restart the kernel to use updated packages.\n"
     ]
    }
   ],
   "source": [
    "%pip install -q dagshub mlflow\n"
   ]
  },
  {
   "cell_type": "code",
   "execution_count": 5,
   "id": "ed543753-6594-4de7-ba64-cc8e8b240ac3",
   "metadata": {},
   "outputs": [
    {
     "data": {
      "text/html": [
       "<pre style=\"white-space:pre;overflow-x:auto;line-height:normal;font-family:Menlo,'DejaVu Sans Mono',consolas,'Courier New',monospace\">Accessing as manaswini.chittepu4\n",
       "</pre>\n"
      ],
      "text/plain": [
       "Accessing as manaswini.chittepu4\n"
      ]
     },
     "metadata": {},
     "output_type": "display_data"
    },
    {
     "data": {
      "text/html": [
       "<pre style=\"white-space:pre;overflow-x:auto;line-height:normal;font-family:Menlo,'DejaVu Sans Mono',consolas,'Courier New',monospace\">Initialized MLflow to track repo <span style=\"color: #008000; text-decoration-color: #008000\">\"manogna145/cda_finalproject\"</span>\n",
       "</pre>\n"
      ],
      "text/plain": [
       "Initialized MLflow to track repo \u001b[32m\"manogna145/cda_finalproject\"\u001b[0m\n"
      ]
     },
     "metadata": {},
     "output_type": "display_data"
    },
    {
     "data": {
      "text/html": [
       "<pre style=\"white-space:pre;overflow-x:auto;line-height:normal;font-family:Menlo,'DejaVu Sans Mono',consolas,'Courier New',monospace\">Repository manogna145/cda_finalproject initialized!\n",
       "</pre>\n"
      ],
      "text/plain": [
       "Repository manogna145/cda_finalproject initialized!\n"
      ]
     },
     "metadata": {},
     "output_type": "display_data"
    }
   ],
   "source": [
    "import dagshub\n",
    "dagshub.init(repo_owner='manogna145', repo_name='cda_finalproject', mlflow=True)"
   ]
  },
  {
   "cell_type": "code",
   "execution_count": null,
   "id": "d30f2987-362e-49a8-a6ca-cb27a05a45f2",
   "metadata": {},
   "outputs": [],
   "source": []
  }
 ],
 "metadata": {
  "kernelspec": {
   "display_name": "Python 3 (ipykernel)",
   "language": "python",
   "name": "python3"
  },
  "language_info": {
   "codemirror_mode": {
    "name": "ipython",
    "version": 3
   },
   "file_extension": ".py",
   "mimetype": "text/x-python",
   "name": "python",
   "nbconvert_exporter": "python",
   "pygments_lexer": "ipython3",
   "version": "3.12.7"
  }
 },
 "nbformat": 4,
 "nbformat_minor": 5
}
