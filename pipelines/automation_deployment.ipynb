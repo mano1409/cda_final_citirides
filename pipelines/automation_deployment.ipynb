{
 "cells": [
  {
   "cell_type": "code",
   "execution_count": 11,
   "id": "98cd8865-1186-4db3-a0e4-eb7b32eeb3c5",
   "metadata": {},
   "outputs": [
    {
     "name": "stdout",
     "output_type": "stream",
     "text": [
      "2025-05-10 17:11:26,108 INFO: Closing external client and cleaning up certificates.\n",
      "Connection closed.\n",
      "2025-05-10 17:11:26,112 INFO: Initializing external client\n",
      "2025-05-10 17:11:26,112 INFO: Base URL: https://c.app.hopsworks.ai:443\n",
      "2025-05-10 17:11:26,829 INFO: Python Engine initialized.\n",
      "\n",
      "Logged in to project, explore it here https://c.app.hopsworks.ai:443/p/1213683\n"
     ]
    },
    {
     "name": "stderr",
     "output_type": "stream",
     "text": [
      "Uploading Dataframe: 100.00% |█| Rows 8256/8256 | Elapsed Time: 00:00 | Remainin\n"
     ]
    },
    {
     "name": "stdout",
     "output_type": "stream",
     "text": [
      "Launching job: citi_bike_hourly_counts_1_offline_fg_materialization\n",
      "Job started successfully, you can follow the progress at \n",
      "https://c.app.hopsworks.ai:443/p/1213683/jobs/named/citi_bike_hourly_counts_1_offline_fg_materialization/executions\n",
      "→ Inserted 8256 rows into Feature Group 'citi_bike_hourly_counts'\n"
     ]
    },
    {
     "name": "stderr",
     "output_type": "stream",
     "text": [
      "Uploading Dataframe: 100.00% |█| Rows 8228/8228 | Elapsed Time: 00:01 | Remainin\n",
      "UserWarning: Materialization job is already running, aborting new execution.Please wait for the current execution to finish before triggering a new one.You can check the status of the current execution using `fg.materialization_job.get_state()`.or `fg.materialization_job.get_final_state()` or check it out in the Hopsworks UI.at https://c.app.hopsworks.ai:443/p/1213683/jobs/named/citi_bike_hourly_predictions_1_offline_fg_materialization.\n",
      "Use fg.materialization_job.run(args=-op offline_fg_materialization -path hdfs:///Projects/Applied_ML_Project1/Resources/jobs/citi_bike_hourly_predictions_1_offline_fg_materialization/config_1746911103706) to trigger the materialization job again.\n"
     ]
    },
    {
     "name": "stdout",
     "output_type": "stream",
     "text": [
      "→ Inserted 8228 rows into Feature Group 'citi_bike_hourly_predictions'\n",
      "→ Best run 305b68c9cd9c463fb359e5b715a94872 with MAE=8.22\n"
     ]
    },
    {
     "data": {
      "application/vnd.jupyter.widget-view+json": {
       "model_id": "bb47698cebf7405fb074f6b0234d7ac8",
       "version_major": 2,
       "version_minor": 0
      },
      "text/plain": [
       "Downloading artifacts:   0%|          | 0/5 [00:00<?, ?it/s]"
      ]
     },
     "metadata": {},
     "output_type": "display_data"
    },
    {
     "name": "stdout",
     "output_type": "stream",
     "text": [
      "→ Downloaded artifacts to ./best_model_artifact/\n"
     ]
    },
    {
     "name": "stderr",
     "output_type": "stream",
     "text": [
      "ProvenanceWarning: Model schema cannot not be inferred without both the feature view and the training dataset version.\n"
     ]
    },
    {
     "data": {
      "application/vnd.jupyter.widget-view+json": {
       "model_id": "738f518f60a045808d759d8764be27a6",
       "version_major": 2,
       "version_minor": 0
      },
      "text/plain": [
       "  0%|          | 0/6 [00:00<?, ?it/s]"
      ]
     },
     "metadata": {},
     "output_type": "display_data"
    },
    {
     "data": {
      "application/vnd.jupyter.widget-view+json": {
       "model_id": "d18cc540705a4e9982b2cec1da9f29eb",
       "version_major": 2,
       "version_minor": 0
      },
      "text/plain": [
       "Uploading /Users/kaushalshivaprakash/Desktop/project3/pipelines/best_model_artifact/model/python_env.yaml: 0.0…"
      ]
     },
     "metadata": {},
     "output_type": "display_data"
    },
    {
     "data": {
      "application/vnd.jupyter.widget-view+json": {
       "model_id": "9d62d10efe9a455a9d0ea7440a0d430c",
       "version_major": 2,
       "version_minor": 0
      },
      "text/plain": [
       "Uploading /Users/kaushalshivaprakash/Desktop/project3/pipelines/best_model_artifact/model/requirements.txt: 0.…"
      ]
     },
     "metadata": {},
     "output_type": "display_data"
    },
    {
     "data": {
      "application/vnd.jupyter.widget-view+json": {
       "model_id": "b15d13fef4374a999aca005b9c1087d5",
       "version_major": 2,
       "version_minor": 0
      },
      "text/plain": [
       "Uploading /Users/kaushalshivaprakash/Desktop/project3/pipelines/best_model_artifact/model/MLmodel: 0.000%|    …"
      ]
     },
     "metadata": {},
     "output_type": "display_data"
    },
    {
     "data": {
      "application/vnd.jupyter.widget-view+json": {
       "model_id": "fbed8e6f85f248aea4f883d3c8f4d16a",
       "version_major": 2,
       "version_minor": 0
      },
      "text/plain": [
       "Uploading /Users/kaushalshivaprakash/Desktop/project3/pipelines/best_model_artifact/model/model.pkl: 0.000%|  …"
      ]
     },
     "metadata": {},
     "output_type": "display_data"
    },
    {
     "data": {
      "application/vnd.jupyter.widget-view+json": {
       "model_id": "75d25d8e5c7f4de180dd2493a568f346",
       "version_major": 2,
       "version_minor": 0
      },
      "text/plain": [
       "Uploading /Users/kaushalshivaprakash/Desktop/project3/pipelines/best_model_artifact/model/conda.yaml: 0.000%| …"
      ]
     },
     "metadata": {},
     "output_type": "display_data"
    },
    {
     "name": "stdout",
     "output_type": "stream",
     "text": [
      "Model created, explore it at https://c.app.hopsworks.ai:443/p/1213683/models/CitiBikeForecasting/2\n",
      "→ Registered model 'CitiBikeForecasting' version 2 in Hopsworks\n"
     ]
    }
   ],
   "source": [
    "#!/usr/bin/env python3\n",
    "\"\"\"\n",
    "ingest_to_hopsworks.py\n",
    "\n",
    "Loads hourly counts (always), optional predictions (if present),\n",
    "and the best MLflow model, then pushes them into Hopsworks\n",
    "Feature Store and Model Registry.\n",
    "\"\"\"\n",
    "\n",
    "import os\n",
    "import shutil\n",
    "import pandas as pd\n",
    "import hopsworks\n",
    "import mlflow\n",
    "from mlflow.tracking import MlflowClient\n",
    "\n",
    "# ──────────────────────────────────────────────────────────────────────────────\n",
    "# LOCAL PATHS & CONFIG\n",
    "PARQUET_PATH       = \"/Users/kaushalshivaprakash/Desktop/project3/data/processed/cleaned_citibike/citibike_2023_top3.parquet\"\n",
    "PREDICTIONS_PATH   = \"/Users/kaushalshivaprakash/Desktop/project3/data/predictions.csv\"\n",
    "EXPERIMENT_NAME    = \"CitiBike_Remote_Experiment\"\n",
    "\n",
    "# Feature Group names & versions\n",
    "FG_COUNTS_NAME     = \"citi_bike_hourly_counts\"\n",
    "FG_COUNTS_VERSION  = 1\n",
    "FG_PRED_NAME       = \"citi_bike_hourly_predictions\"\n",
    "FG_PRED_VERSION    = 1\n",
    "\n",
    "# Hopsworks Model Registry name\n",
    "HOPS_MODEL_NAME    = \"CitiBikeForecasting\"\n",
    "\n",
    "# Local folder for downloading the best model artifact\n",
    "MODEL_LOCAL_PATH   = \"best_model_artifact\"\n",
    "# ──────────────────────────────────────────────────────────────────────────────\n",
    "\n",
    "def main():\n",
    "    # 1. Log into Hopsworks\n",
    "    project = hopsworks.login()\n",
    "    fs      = project.get_feature_store()\n",
    "    mr      = project.get_model_registry()\n",
    "\n",
    "    # 2. Load & aggregate your time-series counts\n",
    "    df = pd.read_parquet(PARQUET_PATH)\n",
    "    df[\"datetime\"] = df[\"started_at\"].dt.floor(\"H\")\n",
    "    counts = (\n",
    "        df.groupby(\"datetime\")\n",
    "          .size()\n",
    "          .reset_index(name=\"count\")\n",
    "          .sort_values(\"datetime\")\n",
    "    )\n",
    "\n",
    "    # 3. Create or get a Feature Group for counts\n",
    "    fg_counts = fs.get_feature_group(FG_COUNTS_NAME, FG_COUNTS_VERSION)\n",
    "    if fg_counts is None:\n",
    "        fg_counts = fs.create_feature_group(\n",
    "            name=FG_COUNTS_NAME,\n",
    "            version=FG_COUNTS_VERSION,\n",
    "            primary_key=[\"datetime\"],\n",
    "            event_time=\"datetime\",\n",
    "            description=\"Hourly ride counts for top-3 stations\",\n",
    "        )\n",
    "    fg_counts.insert(counts, write_options={\"wait_for_job\": False})\n",
    "    print(f\"→ Inserted {len(counts)} rows into Feature Group '{FG_COUNTS_NAME}'\")\n",
    "\n",
    "    # 4. (Optional) Load & ingest your predictions CSV if it exists\n",
    "    if os.path.exists(PREDICTIONS_PATH):\n",
    "        preds = pd.read_csv(PREDICTIONS_PATH, parse_dates=[\"datetime\"])\n",
    "        fg_preds = fs.get_feature_group(FG_PRED_NAME, FG_PRED_VERSION)\n",
    "        if fg_preds is None:\n",
    "            fg_preds = fs.create_feature_group(\n",
    "                name=FG_PRED_NAME,\n",
    "                version=FG_PRED_VERSION,\n",
    "                primary_key=[\"datetime\"],\n",
    "                event_time=\"datetime\",\n",
    "                description=\"Model predictions for hourly ride counts\",\n",
    "            )\n",
    "        fg_preds.insert(preds, write_options={\"wait_for_job\": False})\n",
    "        print(f\"→ Inserted {len(preds)} rows into Feature Group '{FG_PRED_NAME}'\")\n",
    "    else:\n",
    "        print(f\"⚠️  No predictions file at '{PREDICTIONS_PATH}', skipped.\")\n",
    "\n",
    "    # 5. Find the best MLflow run (lowest MAE) in your experiment\n",
    "    client = MlflowClient()\n",
    "    exp    = client.get_experiment_by_name(EXPERIMENT_NAME)\n",
    "    runs   = client.search_runs(\n",
    "        experiment_ids=[exp.experiment_id],\n",
    "        run_view_type=1,\n",
    "        max_results=1,\n",
    "        order_by=[\"metrics.mae ASC\"],\n",
    "    )\n",
    "    best   = runs[0]\n",
    "    run_id = best.info.run_id\n",
    "    best_mae = best.data.metrics[\"mae\"]\n",
    "    print(f\"→ Best run {run_id} with MAE={best_mae:.2f}\")\n",
    "\n",
    "    # 6. Download the model artifact from that run\n",
    "    if os.path.exists(MODEL_LOCAL_PATH):\n",
    "        shutil.rmtree(MODEL_LOCAL_PATH)\n",
    "    os.makedirs(MODEL_LOCAL_PATH, exist_ok=True)\n",
    "    client.download_artifacts(run_id, \"model\", dst_path=MODEL_LOCAL_PATH)\n",
    "    print(f\"→ Downloaded artifacts to ./{MODEL_LOCAL_PATH}/\")\n",
    "\n",
    "    # 7. Register in Hopsworks Model Registry\n",
    "    hs_model = mr.python.create_model(HOPS_MODEL_NAME)\n",
    "    hs_model.save(MODEL_LOCAL_PATH)\n",
    "    print(f\"→ Registered model '{HOPS_MODEL_NAME}' version {hs_model.version} in Hopsworks\")\n",
    "\n",
    "    # If you wish to promote to production, you can do so via:\n",
    "    #   - The Hopsworks UI under Model Registry\n",
    "    #   - or via the Hopsworks SDK, e.g. mr.get_model(...).set_stage(\"production\")\n",
    "\n",
    "if __name__ == \"__main__\":\n",
    "    main()"
   ]
  },
  {
   "cell_type": "code",
   "execution_count": 6,
   "id": "fc705f5a-50e7-411d-b6fa-f2e139f0c649",
   "metadata": {},
   "outputs": [
    {
     "name": "stdout",
     "output_type": "stream",
     "text": [
      "Best run: 305b68c9cd9c463fb359e5b715a94872 (MAE=8.22)\n",
      "Loading model from runs:/305b68c9cd9c463fb359e5b715a94872/model\n"
     ]
    },
    {
     "data": {
      "application/vnd.jupyter.widget-view+json": {
       "model_id": "81d517aa630d487ba57e283c081b852f",
       "version_major": 2,
       "version_minor": 0
      },
      "text/plain": [
       "Downloading artifacts:   0%|          | 0/5 [00:00<?, ?it/s]"
      ]
     },
     "metadata": {},
     "output_type": "display_data"
    },
    {
     "name": "stdout",
     "output_type": "stream",
     "text": [
      "Wrote 8228 rows to /Users/kaushalshivaprakash/Desktop/project3/data/predictions.csv\n"
     ]
    }
   ],
   "source": [
    "#!/usr/bin/env python3\n",
    "\"\"\"\n",
    "inference_run_uri.py\n",
    "\n",
    "Finds your best MLflow run (by MAE), loads its model artifact directly via run URI,\n",
    "makes forecasts on the cleaned Parquet, and writes out predictions.csv.\n",
    "\"\"\"\n",
    "\n",
    "import os\n",
    "import pandas as pd\n",
    "import mlflow\n",
    "from mlflow.tracking import MlflowClient\n",
    "\n",
    "# ──────────────────────────────────────────────────────────────────────────────\n",
    "# CONFIG\n",
    "PARQUET_PATH    = \"/Users/kaushalshivaprakash/Desktop/project3/data/processed/cleaned_citibike/citibike_2023_top3.parquet\"\n",
    "EXPERIMENT_NAME = \"CitiBike_Remote_Experiment\"\n",
    "OUTPUT_CSV      = \"/Users/kaushalshivaprakash/Desktop/project3/data/predictions.csv\"\n",
    "\n",
    "# If you’re using DagsHub remote tracking, set these (otherwise unset)\n",
    "os.environ[\"MLFLOW_TRACKING_USERNAME\"] = \"kaushal-shivaprakashan\"\n",
    "os.environ[\"MLFLOW_TRACKING_PASSWORD\"] = \"b01d7b8c94b982d47d0224ea469bbfe4b8870ff6\"\n",
    "mlflow.set_tracking_uri(\"https://dagshub.com/kaushal-shivaprakashan/final_project.mlflow\")\n",
    "# ──────────────────────────────────────────────────────────────────────────────\n",
    "\n",
    "def load_hourly_counts(path):\n",
    "    df = pd.read_parquet(path)\n",
    "    df[\"datetime\"] = df[\"started_at\"].dt.floor(\"H\")\n",
    "    agg = (\n",
    "        df.groupby(\"datetime\")\n",
    "          .size()\n",
    "          .reset_index(name=\"count\")\n",
    "          .sort_values(\"datetime\")\n",
    "          .reset_index(drop=True)\n",
    "    )\n",
    "    return agg\n",
    "\n",
    "def get_best_run_id(experiment_name: str) -> str:\n",
    "    client = MlflowClient()\n",
    "    exp = client.get_experiment_by_name(experiment_name)\n",
    "    if exp is None:\n",
    "        raise ValueError(f\"Experiment '{experiment_name}' not found\")\n",
    "    runs = client.search_runs(\n",
    "        experiment_ids=[exp.experiment_id],\n",
    "        filter_string=\"\",\n",
    "        run_view_type=1,\n",
    "        max_results=1,\n",
    "        order_by=[\"metrics.mae ASC\"]\n",
    "    )\n",
    "    best = runs[0]\n",
    "    print(f\"Best run: {best.info.run_id} (MAE={best.data.metrics['mae']:.2f})\")\n",
    "    return best.info.run_id\n",
    "\n",
    "def load_model_from_run(run_id: str):\n",
    "    uri = f\"runs:/{run_id}/model\"\n",
    "    print(f\"Loading model from {uri}\")\n",
    "    return mlflow.pyfunc.load_model(uri)\n",
    "\n",
    "def build_lag_features(df, max_lag=28):\n",
    "    df = df.copy()\n",
    "    for lag in range(1, max_lag+1):\n",
    "        df[f\"lag_{lag}\"] = df[\"count\"].shift(lag)\n",
    "    return df.dropna().reset_index(drop=True)\n",
    "\n",
    "def main():\n",
    "    # 1) load counts\n",
    "    hourly = load_hourly_counts(PARQUET_PATH)\n",
    "\n",
    "    # 2) find best run\n",
    "    run_id = get_best_run_id(EXPERIMENT_NAME)\n",
    "\n",
    "    # 3) load model\n",
    "    model = load_model_from_run(run_id)\n",
    "\n",
    "    # 4) build features & predict\n",
    "    data = build_lag_features(hourly, max_lag=28)\n",
    "    feature_cols = [f\"lag_{i}\" for i in range(1, 29)]\n",
    "    data[\"prediction\"] = model.predict(data[feature_cols])\n",
    "\n",
    "    # 5) write CSV\n",
    "    out = data[[\"datetime\", \"prediction\"]]\n",
    "    os.makedirs(os.path.dirname(OUTPUT_CSV), exist_ok=True)\n",
    "    out.to_csv(OUTPUT_CSV, index=False)\n",
    "    print(f\"Wrote {len(out)} rows to {OUTPUT_CSV}\")\n",
    "\n",
    "if __name__ == \"__main__\":\n",
    "    main()"
   ]
  },
  {
   "cell_type": "code",
   "execution_count": null,
   "id": "f8b5b12e-cfbf-4452-ab34-d18c53984f8e",
   "metadata": {},
   "outputs": [],
   "source": []
  },
  {
   "cell_type": "code",
   "execution_count": 21,
   "id": "693b72d1-7609-44aa-a3ae-9b564ad1c42a",
   "metadata": {},
   "outputs": [
    {
     "name": "stdout",
     "output_type": "stream",
     "text": [
      "2025-05-10 17:47:34,464 INFO: Closing external client and cleaning up certificates.\n",
      "Connection closed.\n",
      "2025-05-10 17:47:34,467 INFO: Initializing external client\n",
      "2025-05-10 17:47:34,467 INFO: Base URL: https://https://c.app.hopsworks.ai:443\n"
     ]
    },
    {
     "ename": "ValueError",
     "evalue": "Invalid port ''.",
     "output_type": "error",
     "traceback": [
      "\u001b[31m---------------------------------------------------------------------------\u001b[39m",
      "\u001b[31mValueError\u001b[39m                                Traceback (most recent call last)",
      "\u001b[36mCell\u001b[39m\u001b[36m \u001b[39m\u001b[32mIn[21]\u001b[39m\u001b[32m, line 67\u001b[39m\n\u001b[32m     64\u001b[39m     \u001b[38;5;28mprint\u001b[39m(\u001b[33mf\u001b[39m\u001b[33m\"\u001b[39m\u001b[33m • Endpoint: \u001b[39m\u001b[38;5;132;01m{\u001b[39;00mstate.get(\u001b[33m'\u001b[39m\u001b[33mendpoint_url\u001b[39m\u001b[33m'\u001b[39m,\u001b[38;5;250m \u001b[39m\u001b[33m'\u001b[39m\u001b[33m<none>\u001b[39m\u001b[33m'\u001b[39m)\u001b[38;5;132;01m}\u001b[39;00m\u001b[33m\"\u001b[39m)\n\u001b[32m     66\u001b[39m \u001b[38;5;28;01mif\u001b[39;00m \u001b[34m__name__\u001b[39m == \u001b[33m\"\u001b[39m\u001b[33m__main__\u001b[39m\u001b[33m\"\u001b[39m:\n\u001b[32m---> \u001b[39m\u001b[32m67\u001b[39m     \u001b[43mmain\u001b[49m\u001b[43m(\u001b[49m\u001b[43m)\u001b[49m\n",
      "\u001b[36mCell\u001b[39m\u001b[36m \u001b[39m\u001b[32mIn[21]\u001b[39m\u001b[32m, line 28\u001b[39m, in \u001b[36mmain\u001b[39m\u001b[34m()\u001b[39m\n\u001b[32m     26\u001b[39m \u001b[38;5;28;01mdef\u001b[39;00m\u001b[38;5;250m \u001b[39m\u001b[34mmain\u001b[39m():\n\u001b[32m     27\u001b[39m     \u001b[38;5;66;03m# 1. Log into Hopsworks\u001b[39;00m\n\u001b[32m---> \u001b[39m\u001b[32m28\u001b[39m     project = \u001b[43mhopsworks\u001b[49m\u001b[43m.\u001b[49m\u001b[43mlogin\u001b[49m\u001b[43m(\u001b[49m\u001b[43m)\u001b[49m\n\u001b[32m     29\u001b[39m     mr      = project.get_model_registry()\n\u001b[32m     30\u001b[39m     ms      = project.get_model_serving()\n",
      "\u001b[36mFile \u001b[39m\u001b[32m/opt/anaconda3/envs/kaushal/lib/python3.11/site-packages/hopsworks/__init__.py:268\u001b[39m, in \u001b[36mlogin\u001b[39m\u001b[34m(host, port, project, api_key_value, api_key_file, hostname_verification, trust_store_path, engine)\u001b[39m\n\u001b[32m    265\u001b[39m         fh.write(api_key.strip())\n\u001b[32m    267\u001b[39m \u001b[38;5;28;01mtry\u001b[39;00m:\n\u001b[32m--> \u001b[39m\u001b[32m268\u001b[39m     _hw_connection = \u001b[43m_hw_connection\u001b[49m\u001b[43m(\u001b[49m\n\u001b[32m    269\u001b[39m \u001b[43m        \u001b[49m\u001b[43mhost\u001b[49m\u001b[43m=\u001b[49m\u001b[43mhost\u001b[49m\u001b[43m,\u001b[49m\n\u001b[32m    270\u001b[39m \u001b[43m        \u001b[49m\u001b[43mport\u001b[49m\u001b[43m=\u001b[49m\u001b[43mport\u001b[49m\u001b[43m,\u001b[49m\n\u001b[32m    271\u001b[39m \u001b[43m        \u001b[49m\u001b[43mengine\u001b[49m\u001b[43m=\u001b[49m\u001b[43mengine\u001b[49m\u001b[43m,\u001b[49m\n\u001b[32m    272\u001b[39m \u001b[43m        \u001b[49m\u001b[43mapi_key_value\u001b[49m\u001b[43m=\u001b[49m\u001b[43mapi_key\u001b[49m\u001b[43m,\u001b[49m\n\u001b[32m    273\u001b[39m \u001b[43m        \u001b[49m\u001b[43mhostname_verification\u001b[49m\u001b[43m=\u001b[49m\u001b[43mhostname_verification\u001b[49m\u001b[43m,\u001b[49m\n\u001b[32m    274\u001b[39m \u001b[43m        \u001b[49m\u001b[43mtrust_store_path\u001b[49m\u001b[43m=\u001b[49m\u001b[43mtrust_store_path\u001b[49m\u001b[43m,\u001b[49m\n\u001b[32m    275\u001b[39m \u001b[43m    \u001b[49m\u001b[43m)\u001b[49m\n\u001b[32m    276\u001b[39m     _connected_project = _prompt_project(_hw_connection, project, is_app)\n\u001b[32m    277\u001b[39m     \u001b[38;5;28;01mif\u001b[39;00m _connected_project:\n",
      "\u001b[36mFile \u001b[39m\u001b[32m/opt/anaconda3/envs/kaushal/lib/python3.11/site-packages/hopsworks_common/connection.py:559\u001b[39m, in \u001b[36mConnection.connection\u001b[39m\u001b[34m(cls, host, port, project, engine, hostname_verification, trust_store_path, cert_folder, api_key_file, api_key_value)\u001b[39m\n\u001b[32m    478\u001b[39m \u001b[38;5;129m@classmethod\u001b[39m\n\u001b[32m    479\u001b[39m \u001b[38;5;28;01mdef\u001b[39;00m\u001b[38;5;250m \u001b[39m\u001b[34mconnection\u001b[39m(\n\u001b[32m    480\u001b[39m     \u001b[38;5;28mcls\u001b[39m,\n\u001b[32m   (...)\u001b[39m\u001b[32m    489\u001b[39m     api_key_value: Optional[\u001b[38;5;28mstr\u001b[39m] = \u001b[38;5;28;01mNone\u001b[39;00m,\n\u001b[32m    490\u001b[39m ) -> Connection:\n\u001b[32m    491\u001b[39m \u001b[38;5;250m    \u001b[39m\u001b[33;03m\"\"\"Connection factory method, accessible through `hopsworks.connection()`.\u001b[39;00m\n\u001b[32m    492\u001b[39m \n\u001b[32m    493\u001b[39m \u001b[33;03m    This class provides convenience classmethods accessible from the `hopsworks`-module:\u001b[39;00m\n\u001b[32m   (...)\u001b[39m\u001b[32m    557\u001b[39m \u001b[33;03m            Hopsworks project.\u001b[39;00m\n\u001b[32m    558\u001b[39m \u001b[33;03m    \"\"\"\u001b[39;00m\n\u001b[32m--> \u001b[39m\u001b[32m559\u001b[39m     \u001b[38;5;28;01mreturn\u001b[39;00m \u001b[38;5;28;43mcls\u001b[39;49m\u001b[43m(\u001b[49m\n\u001b[32m    560\u001b[39m \u001b[43m        \u001b[49m\u001b[43mhost\u001b[49m\u001b[43m,\u001b[49m\n\u001b[32m    561\u001b[39m \u001b[43m        \u001b[49m\u001b[43mport\u001b[49m\u001b[43m,\u001b[49m\n\u001b[32m    562\u001b[39m \u001b[43m        \u001b[49m\u001b[43mproject\u001b[49m\u001b[43m,\u001b[49m\n\u001b[32m    563\u001b[39m \u001b[43m        \u001b[49m\u001b[43mengine\u001b[49m\u001b[43m,\u001b[49m\n\u001b[32m    564\u001b[39m \u001b[43m        \u001b[49m\u001b[43mhostname_verification\u001b[49m\u001b[43m,\u001b[49m\n\u001b[32m    565\u001b[39m \u001b[43m        \u001b[49m\u001b[43mtrust_store_path\u001b[49m\u001b[43m,\u001b[49m\n\u001b[32m    566\u001b[39m \u001b[43m        \u001b[49m\u001b[43mcert_folder\u001b[49m\u001b[43m,\u001b[49m\n\u001b[32m    567\u001b[39m \u001b[43m        \u001b[49m\u001b[43mapi_key_file\u001b[49m\u001b[43m,\u001b[49m\n\u001b[32m    568\u001b[39m \u001b[43m        \u001b[49m\u001b[43mapi_key_value\u001b[49m\u001b[43m,\u001b[49m\n\u001b[32m    569\u001b[39m \u001b[43m    \u001b[49m\u001b[43m)\u001b[49m\n",
      "\u001b[36mFile \u001b[39m\u001b[32m/opt/anaconda3/envs/kaushal/lib/python3.11/site-packages/hopsworks_common/connection.py:152\u001b[39m, in \u001b[36mConnection.__init__\u001b[39m\u001b[34m(self, host, port, project, engine, hostname_verification, trust_store_path, cert_folder, api_key_file, api_key_value)\u001b[39m\n\u001b[32m    149\u001b[39m \u001b[38;5;28mself\u001b[39m._connected = \u001b[38;5;28;01mFalse\u001b[39;00m\n\u001b[32m    150\u001b[39m \u001b[38;5;28mself\u001b[39m._backend_version = \u001b[38;5;28;01mNone\u001b[39;00m\n\u001b[32m--> \u001b[39m\u001b[32m152\u001b[39m \u001b[38;5;28;43mself\u001b[39;49m\u001b[43m.\u001b[49m\u001b[43mconnect\u001b[49m\u001b[43m(\u001b[49m\u001b[43m)\u001b[49m\n",
      "\u001b[36mFile \u001b[39m\u001b[32m/opt/anaconda3/envs/kaushal/lib/python3.11/site-packages/hopsworks_common/decorators.py:38\u001b[39m, in \u001b[36mnot_connected.<locals>.if_not_connected\u001b[39m\u001b[34m(inst, *args, **kwargs)\u001b[39m\n\u001b[32m     36\u001b[39m \u001b[38;5;28;01mif\u001b[39;00m inst._connected:\n\u001b[32m     37\u001b[39m     \u001b[38;5;28;01mraise\u001b[39;00m HopsworksConnectionError\n\u001b[32m---> \u001b[39m\u001b[32m38\u001b[39m \u001b[38;5;28;01mreturn\u001b[39;00m \u001b[43mfn\u001b[49m\u001b[43m(\u001b[49m\u001b[43minst\u001b[49m\u001b[43m,\u001b[49m\u001b[43m \u001b[49m\u001b[43m*\u001b[49m\u001b[43margs\u001b[49m\u001b[43m,\u001b[49m\u001b[43m \u001b[49m\u001b[43m*\u001b[49m\u001b[43m*\u001b[49m\u001b[43mkwargs\u001b[49m\u001b[43m)\u001b[49m\n",
      "\u001b[36mFile \u001b[39m\u001b[32m/opt/anaconda3/envs/kaushal/lib/python3.11/site-packages/hopsworks_common/connection.py:407\u001b[39m, in \u001b[36mConnection.connect\u001b[39m\u001b[34m(self)\u001b[39m\n\u001b[32m    405\u001b[39m     \u001b[38;5;28mself\u001b[39m._secret_api = secret_api.SecretsApi()\n\u001b[32m    406\u001b[39m     \u001b[38;5;28mself\u001b[39m._variable_api = variable_api.VariableApi()\n\u001b[32m--> \u001b[39m\u001b[32m407\u001b[39m     usage.init_usage(\u001b[38;5;28mself\u001b[39m._host, \u001b[38;5;28;43mself\u001b[39;49m\u001b[43m.\u001b[49m\u001b[43m_variable_api\u001b[49m\u001b[43m.\u001b[49m\u001b[43mget_version\u001b[49m\u001b[43m(\u001b[49m\u001b[33;43m\"\u001b[39;49m\u001b[33;43mhopsworks\u001b[39;49m\u001b[33;43m\"\u001b[39;49m\u001b[43m)\u001b[49m)\n\u001b[32m    409\u001b[39m     \u001b[38;5;28mself\u001b[39m._provide_project()\n\u001b[32m    410\u001b[39m \u001b[38;5;28;01mexcept\u001b[39;00m (\u001b[38;5;167;01mTypeError\u001b[39;00m, \u001b[38;5;167;01mConnectionError\u001b[39;00m):\n",
      "\u001b[36mFile \u001b[39m\u001b[32m/opt/anaconda3/envs/kaushal/lib/python3.11/site-packages/hopsworks_common/core/variable_api.py:68\u001b[39m, in \u001b[36mVariableApi.get_version\u001b[39m\u001b[34m(self, software)\u001b[39m\n\u001b[32m     65\u001b[39m _client = client.get_instance()\n\u001b[32m     67\u001b[39m path_params = [\u001b[33m\"\u001b[39m\u001b[33mvariables\u001b[39m\u001b[33m\"\u001b[39m, \u001b[33m\"\u001b[39m\u001b[33mversions\u001b[39m\u001b[33m\"\u001b[39m]\n\u001b[32m---> \u001b[39m\u001b[32m68\u001b[39m resp = \u001b[43m_client\u001b[49m\u001b[43m.\u001b[49m\u001b[43m_send_request\u001b[49m\u001b[43m(\u001b[49m\u001b[33;43m\"\u001b[39;49m\u001b[33;43mGET\u001b[39;49m\u001b[33;43m\"\u001b[39;49m\u001b[43m,\u001b[49m\u001b[43m \u001b[49m\u001b[43mpath_params\u001b[49m\u001b[43m)\u001b[49m\n\u001b[32m     70\u001b[39m \u001b[38;5;28;01mfor\u001b[39;00m entry \u001b[38;5;129;01min\u001b[39;00m resp:\n\u001b[32m     71\u001b[39m     \u001b[38;5;28;01mif\u001b[39;00m entry[\u001b[33m\"\u001b[39m\u001b[33msoftware\u001b[39m\u001b[33m\"\u001b[39m] == software:\n",
      "\u001b[36mFile \u001b[39m\u001b[32m/opt/anaconda3/envs/kaushal/lib/python3.11/site-packages/hopsworks_common/decorators.py:48\u001b[39m, in \u001b[36mconnected.<locals>.if_connected\u001b[39m\u001b[34m(inst, *args, **kwargs)\u001b[39m\n\u001b[32m     46\u001b[39m \u001b[38;5;28;01mif\u001b[39;00m \u001b[38;5;129;01mnot\u001b[39;00m inst._connected:\n\u001b[32m     47\u001b[39m     \u001b[38;5;28;01mraise\u001b[39;00m NoHopsworksConnectionError\n\u001b[32m---> \u001b[39m\u001b[32m48\u001b[39m \u001b[38;5;28;01mreturn\u001b[39;00m \u001b[43mfn\u001b[49m\u001b[43m(\u001b[49m\u001b[43minst\u001b[49m\u001b[43m,\u001b[49m\u001b[43m \u001b[49m\u001b[43m*\u001b[49m\u001b[43margs\u001b[49m\u001b[43m,\u001b[49m\u001b[43m \u001b[49m\u001b[43m*\u001b[49m\u001b[43m*\u001b[49m\u001b[43mkwargs\u001b[49m\u001b[43m)\u001b[49m\n",
      "\u001b[36mFile \u001b[39m\u001b[32m/opt/anaconda3/envs/kaushal/lib/python3.11/site-packages/hopsworks_common/client/base.py:156\u001b[39m, in \u001b[36mClient._send_request\u001b[39m\u001b[34m(self, method, path_params, query_params, headers, data, stream, files, with_base_path_params)\u001b[39m\n\u001b[32m    120\u001b[39m \u001b[38;5;129m@connected\u001b[39m\n\u001b[32m    121\u001b[39m \u001b[38;5;28;01mdef\u001b[39;00m\u001b[38;5;250m \u001b[39m\u001b[34m_send_request\u001b[39m(\n\u001b[32m    122\u001b[39m     \u001b[38;5;28mself\u001b[39m,\n\u001b[32m   (...)\u001b[39m\u001b[32m    130\u001b[39m     with_base_path_params=\u001b[38;5;28;01mTrue\u001b[39;00m,\n\u001b[32m    131\u001b[39m ):\n\u001b[32m    132\u001b[39m \u001b[38;5;250m    \u001b[39m\u001b[33;03m\"\"\"Send REST request to Hopsworks.\u001b[39;00m\n\u001b[32m    133\u001b[39m \n\u001b[32m    134\u001b[39m \u001b[33;03m    Uses the client it is executed from. Path parameters are url encoded automatically.\u001b[39;00m\n\u001b[32m   (...)\u001b[39m\u001b[32m    154\u001b[39m \u001b[33;03m    :rtype: dict\u001b[39;00m\n\u001b[32m    155\u001b[39m \u001b[33;03m    \"\"\"\u001b[39;00m\n\u001b[32m--> \u001b[39m\u001b[32m156\u001b[39m     f_url = \u001b[43mfurl\u001b[49m\u001b[43m.\u001b[49m\u001b[43mfurl\u001b[49m\u001b[43m(\u001b[49m\u001b[38;5;28;43mself\u001b[39;49m\u001b[43m.\u001b[49m\u001b[43m_base_url\u001b[49m\u001b[43m)\u001b[49m\n\u001b[32m    157\u001b[39m     \u001b[38;5;28;01mif\u001b[39;00m with_base_path_params:\n\u001b[32m    158\u001b[39m         base_path_params = [\u001b[33m\"\u001b[39m\u001b[33mhopsworks-api\u001b[39m\u001b[33m\"\u001b[39m, \u001b[33m\"\u001b[39m\u001b[33mapi\u001b[39m\u001b[33m\"\u001b[39m]\n",
      "\u001b[36mFile \u001b[39m\u001b[32m/opt/anaconda3/envs/kaushal/lib/python3.11/site-packages/furl/furl.py:1381\u001b[39m, in \u001b[36mfurl.__init__\u001b[39m\u001b[34m(self, url, args, path, fragment, scheme, netloc, origin, fragment_path, fragment_args, fragment_separator, host, port, query, query_params, username, password, strict)\u001b[39m\n\u001b[32m   1378\u001b[39m FragmentCompositionInterface.\u001b[34m__init__\u001b[39m(\u001b[38;5;28mself\u001b[39m, strict=strict)\n\u001b[32m   1379\u001b[39m \u001b[38;5;28mself\u001b[39m.strict = strict\n\u001b[32m-> \u001b[39m\u001b[32m1381\u001b[39m \u001b[38;5;28;43mself\u001b[39;49m\u001b[43m.\u001b[49m\u001b[43mload\u001b[49m\u001b[43m(\u001b[49m\u001b[43murl\u001b[49m\u001b[43m)\u001b[49m  \u001b[38;5;66;03m# Raises ValueError on invalid URL.\u001b[39;00m\n\u001b[32m   1382\u001b[39m \u001b[38;5;28mself\u001b[39m.set(  \u001b[38;5;66;03m# Raises ValueError on invalid URL component(s).\u001b[39;00m\n\u001b[32m   1383\u001b[39m     args=args, path=path, fragment=fragment, scheme=scheme,\n\u001b[32m   1384\u001b[39m     netloc=netloc, origin=origin, fragment_path=fragment_path,\n\u001b[32m   1385\u001b[39m     fragment_args=fragment_args, fragment_separator=fragment_separator,\n\u001b[32m   1386\u001b[39m     host=host, port=port, query=query, query_params=query_params,\n\u001b[32m   1387\u001b[39m     username=username, password=password)\n",
      "\u001b[36mFile \u001b[39m\u001b[32m/opt/anaconda3/envs/kaushal/lib/python3.11/site-packages/furl/furl.py:1408\u001b[39m, in \u001b[36mfurl.load\u001b[39m\u001b[34m(self, url)\u001b[39m\n\u001b[32m   1404\u001b[39m \u001b[38;5;66;03m# urlsplit() raises a ValueError on malformed IPv6 addresses in\u001b[39;00m\n\u001b[32m   1405\u001b[39m \u001b[38;5;66;03m# Python 2.7+.\u001b[39;00m\n\u001b[32m   1406\u001b[39m tokens = urlsplit(url)\n\u001b[32m-> \u001b[39m\u001b[32m1408\u001b[39m \u001b[38;5;28;43mself\u001b[39;49m\u001b[43m.\u001b[49m\u001b[43mnetloc\u001b[49m = tokens.netloc  \u001b[38;5;66;03m# Raises ValueError in Python 2.7+.\u001b[39;00m\n\u001b[32m   1409\u001b[39m \u001b[38;5;28mself\u001b[39m.scheme = tokens.scheme\n\u001b[32m   1410\u001b[39m \u001b[38;5;28;01mif\u001b[39;00m \u001b[38;5;129;01mnot\u001b[39;00m \u001b[38;5;28mself\u001b[39m.port:\n",
      "\u001b[36mFile \u001b[39m\u001b[32m/opt/anaconda3/envs/kaushal/lib/python3.11/site-packages/furl/furl.py:1889\u001b[39m, in \u001b[36mfurl.__setattr__\u001b[39m\u001b[34m(self, attr, value)\u001b[39m\n\u001b[32m   1885\u001b[39m \u001b[38;5;28;01mdef\u001b[39;00m\u001b[38;5;250m \u001b[39m\u001b[34m__setattr__\u001b[39m(\u001b[38;5;28mself\u001b[39m, attr, value):\n\u001b[32m   1886\u001b[39m     \u001b[38;5;28;01mif\u001b[39;00m (\u001b[38;5;129;01mnot\u001b[39;00m PathCompositionInterface.\u001b[34m__setattr__\u001b[39m(\u001b[38;5;28mself\u001b[39m, attr, value) \u001b[38;5;129;01mand\u001b[39;00m\n\u001b[32m   1887\u001b[39m        \u001b[38;5;129;01mnot\u001b[39;00m QueryCompositionInterface.\u001b[34m__setattr__\u001b[39m(\u001b[38;5;28mself\u001b[39m, attr, value) \u001b[38;5;129;01mand\u001b[39;00m\n\u001b[32m   1888\u001b[39m        \u001b[38;5;129;01mnot\u001b[39;00m FragmentCompositionInterface.\u001b[34m__setattr__\u001b[39m(\u001b[38;5;28mself\u001b[39m, attr, value)):\n\u001b[32m-> \u001b[39m\u001b[32m1889\u001b[39m         \u001b[38;5;28;43mobject\u001b[39;49m\u001b[43m.\u001b[49m\u001b[34;43m__setattr__\u001b[39;49m\u001b[43m(\u001b[49m\u001b[38;5;28;43mself\u001b[39;49m\u001b[43m,\u001b[49m\u001b[43m \u001b[49m\u001b[43mattr\u001b[49m\u001b[43m,\u001b[49m\u001b[43m \u001b[49m\u001b[43mvalue\u001b[49m\u001b[43m)\u001b[49m\n",
      "\u001b[36mFile \u001b[39m\u001b[32m/opt/anaconda3/envs/kaushal/lib/python3.11/site-packages/furl/furl.py:1534\u001b[39m, in \u001b[36mfurl.netloc\u001b[39m\u001b[34m(self, netloc)\u001b[39m\n\u001b[32m   1529\u001b[39m     host = netloc\n\u001b[32m   1531\u001b[39m \u001b[38;5;66;03m# Avoid side effects by assigning self.port before self.host so\u001b[39;00m\n\u001b[32m   1532\u001b[39m \u001b[38;5;66;03m# that if an exception is raised when assigning self.port,\u001b[39;00m\n\u001b[32m   1533\u001b[39m \u001b[38;5;66;03m# self.host isn't updated.\u001b[39;00m\n\u001b[32m-> \u001b[39m\u001b[32m1534\u001b[39m \u001b[38;5;28;43mself\u001b[39;49m\u001b[43m.\u001b[49m\u001b[43mport\u001b[49m = port  \u001b[38;5;66;03m# Raises ValueError on invalid port.\u001b[39;00m\n\u001b[32m   1535\u001b[39m \u001b[38;5;28mself\u001b[39m.host = host\n\u001b[32m   1536\u001b[39m \u001b[38;5;28mself\u001b[39m.username = \u001b[38;5;28;01mNone\u001b[39;00m \u001b[38;5;28;01mif\u001b[39;00m username \u001b[38;5;129;01mis\u001b[39;00m \u001b[38;5;28;01mNone\u001b[39;00m \u001b[38;5;28;01melse\u001b[39;00m unquote(username)\n",
      "\u001b[36mFile \u001b[39m\u001b[32m/opt/anaconda3/envs/kaushal/lib/python3.11/site-packages/furl/furl.py:1889\u001b[39m, in \u001b[36mfurl.__setattr__\u001b[39m\u001b[34m(self, attr, value)\u001b[39m\n\u001b[32m   1885\u001b[39m \u001b[38;5;28;01mdef\u001b[39;00m\u001b[38;5;250m \u001b[39m\u001b[34m__setattr__\u001b[39m(\u001b[38;5;28mself\u001b[39m, attr, value):\n\u001b[32m   1886\u001b[39m     \u001b[38;5;28;01mif\u001b[39;00m (\u001b[38;5;129;01mnot\u001b[39;00m PathCompositionInterface.\u001b[34m__setattr__\u001b[39m(\u001b[38;5;28mself\u001b[39m, attr, value) \u001b[38;5;129;01mand\u001b[39;00m\n\u001b[32m   1887\u001b[39m        \u001b[38;5;129;01mnot\u001b[39;00m QueryCompositionInterface.\u001b[34m__setattr__\u001b[39m(\u001b[38;5;28mself\u001b[39m, attr, value) \u001b[38;5;129;01mand\u001b[39;00m\n\u001b[32m   1888\u001b[39m        \u001b[38;5;129;01mnot\u001b[39;00m FragmentCompositionInterface.\u001b[34m__setattr__\u001b[39m(\u001b[38;5;28mself\u001b[39m, attr, value)):\n\u001b[32m-> \u001b[39m\u001b[32m1889\u001b[39m         \u001b[38;5;28;43mobject\u001b[39;49m\u001b[43m.\u001b[49m\u001b[34;43m__setattr__\u001b[39;49m\u001b[43m(\u001b[49m\u001b[38;5;28;43mself\u001b[39;49m\u001b[43m,\u001b[49m\u001b[43m \u001b[49m\u001b[43mattr\u001b[49m\u001b[43m,\u001b[49m\u001b[43m \u001b[49m\u001b[43mvalue\u001b[49m\u001b[43m)\u001b[49m\n",
      "\u001b[36mFile \u001b[39m\u001b[32m/opt/anaconda3/envs/kaushal/lib/python3.11/site-packages/furl/furl.py:1476\u001b[39m, in \u001b[36mfurl.port\u001b[39m\u001b[34m(self, port)\u001b[39m\n\u001b[32m   1474\u001b[39m     \u001b[38;5;28mself\u001b[39m._port = \u001b[38;5;28mint\u001b[39m(\u001b[38;5;28mstr\u001b[39m(port))\n\u001b[32m   1475\u001b[39m \u001b[38;5;28;01melse\u001b[39;00m:\n\u001b[32m-> \u001b[39m\u001b[32m1476\u001b[39m     \u001b[38;5;28;01mraise\u001b[39;00m \u001b[38;5;167;01mValueError\u001b[39;00m(\u001b[33m\"\u001b[39m\u001b[33mInvalid port \u001b[39m\u001b[33m'\u001b[39m\u001b[38;5;132;01m%s\u001b[39;00m\u001b[33m'\u001b[39m\u001b[33m.\u001b[39m\u001b[33m\"\u001b[39m % port)\n",
      "\u001b[31mValueError\u001b[39m: Invalid port ''."
     ]
    }
   ],
   "source": [
    "#!/usr/bin/env python3\n",
    "\"\"\"\n",
    "deploy_to_hopsworks.py\n",
    "\n",
    "Retrieves the best CitiBikeForecasting model from Hopsworks\n",
    "Model Registry and deploys it as an online endpoint via KServe,\n",
    "using a regex-compliant deployment name.\n",
    "\"\"\"\n",
    "\n",
    "import os\n",
    "import hopsworks\n",
    "\n",
    "# ──────────────────────────────────────────────────────────────────────────────\n",
    "# Hopsworks connection via env vars\n",
    "os.environ[\"HOPSWORKS_HOST\"]    = \"https://c.app.hopsworks.ai\"\n",
    "os.environ[\"HOPSWORKS_API_KEY\"] = \"D09MoCU1zHDG9QFY.OqwGmn2PVRk5pzsJtwqlUDNilD4ROFmVAr6EP67rq0AJ7qVBMVwNa8JhvvPDqvQU\"\n",
    "\n",
    "# MODEL / DEPLOYMENT CONFIG\n",
    "MODEL_NAME      = \"CitiBikeForecasting\"\n",
    "# must be lowercase alphanumeric, '-' or '.', and start/end alphanumeric\n",
    "DEPLOYMENT_NAME = \"citibike-forecast-endpoint\"\n",
    "METRIC_NAME     = \"mae\"\n",
    "SCRIPT_FILE     = \"serving.py\"  # must exist at project root\n",
    "# ──────────────────────────────────────────────────────────────────────────────\n",
    "\n",
    "def main():\n",
    "    # 1. Log into Hopsworks\n",
    "    project = hopsworks.login()\n",
    "    mr      = project.get_model_registry()\n",
    "    ms      = project.get_model_serving()\n",
    "\n",
    "    # 2. Fetch best model by MAE\n",
    "    best = mr.get_best_model(\n",
    "        name=MODEL_NAME,\n",
    "        metric=METRIC_NAME,\n",
    "        direction=\"min\"\n",
    "    )\n",
    "    print(f\"Deploying model '{MODEL_NAME}' version={best.version}\")\n",
    "\n",
    "    # 3. Create Predictor with scale-to-zero\n",
    "    predictor = ms.create_predictor(\n",
    "        model=best,\n",
    "        name=DEPLOYMENT_NAME,\n",
    "        script_file=SCRIPT_FILE,\n",
    "        resources={\n",
    "            \"cpu\": 1,\n",
    "            \"memory\": \"2Gi\",\n",
    "            \"num_instances\": 0\n",
    "        }\n",
    "    )\n",
    "\n",
    "    # 4. Create & save the Deployment\n",
    "    deployment = ms.create_deployment(\n",
    "        predictor=predictor,\n",
    "        name=DEPLOYMENT_NAME\n",
    "    )\n",
    "    deployment.save()\n",
    "\n",
    "    # 5. Print deployment info\n",
    "    state = deployment.get_state().to_dict()\n",
    "    print(\"Deployment created:\")\n",
    "    print(f\" • ID:       {deployment.id}\")\n",
    "    print(f\" • Status:   {state['status']}\")\n",
    "    print(f\" • Endpoint: {state.get('endpoint_url', '<none>')}\")\n",
    "\n",
    "if __name__ == \"__main__\":\n",
    "    main()"
   ]
  },
  {
   "cell_type": "code",
   "execution_count": null,
   "id": "1d36be94-dabd-4f5c-8deb-6ba9a00c4e5f",
   "metadata": {},
   "outputs": [],
   "source": []
  }
 ],
 "metadata": {
  "kernelspec": {
   "display_name": "Python 3 (ipykernel)",
   "language": "python",
   "name": "python3"
  },
  "language_info": {
   "codemirror_mode": {
    "name": "ipython",
    "version": 3
   },
   "file_extension": ".py",
   "mimetype": "text/x-python",
   "name": "python",
   "nbconvert_exporter": "python",
   "pygments_lexer": "ipython3",
   "version": "3.11.11"
  }
 },
 "nbformat": 4,
 "nbformat_minor": 5
}
